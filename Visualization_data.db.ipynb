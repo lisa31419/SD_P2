{
 "cells": [
  {
   "cell_type": "markdown",
   "id": "47cdab59",
   "metadata": {},
   "source": [
    "# Visualization of the conent in data.db"
   ]
  },
  {
   "cell_type": "markdown",
   "id": "f711940a",
   "metadata": {},
   "source": [
    "References for this notebook are:\n",
    "- https://www.pythonsheets.com/notes/python-sqlalchemy.html\n",
    "- https://towardsdatascience.com/sqlalchemy-python-tutorial-79a577141a91"
   ]
  },
  {
   "cell_type": "code",
   "execution_count": 1,
   "id": "a042b2a8",
   "metadata": {},
   "outputs": [],
   "source": [
    "import sqlalchemy as db\n",
    "import pandas as pd\n",
    "from sqlalchemy import select\n",
    "from sqlalchemy import MetaData\n",
    "from sqlalchemy import inspect"
   ]
  },
  {
   "cell_type": "code",
   "execution_count": 2,
   "id": "c6bea64a",
   "metadata": {},
   "outputs": [],
   "source": [
    "engine = db.create_engine('sqlite:///data.db')\n",
    "meta = db.MetaData(engine)\n",
    "connection = engine.connect()\n",
    "inspector = inspect(engine)"
   ]
  },
  {
   "cell_type": "code",
   "execution_count": 3,
   "id": "a16a6364",
   "metadata": {},
   "outputs": [],
   "source": [
    "results = engine.execute('SELECT * FROM '\n",
    "                        '\"shows\"')"
   ]
  },
  {
   "cell_type": "code",
   "execution_count": 4,
   "id": "d74f2815",
   "metadata": {},
   "outputs": [
    {
     "name": "stdout",
     "output_type": "stream",
     "text": [
      "['accounts', 'alembic_version', 'artists', 'artists_in_shows', 'disciplines', 'orders', 'places', 'shows']\n"
     ]
    }
   ],
   "source": [
    "table_names = inspector.get_table_names()\n",
    "print(table_names)"
   ]
  },
  {
   "cell_type": "code",
   "execution_count": 6,
   "id": "3b149499",
   "metadata": {},
   "outputs": [
    {
     "name": "stdout",
     "output_type": "stream",
     "text": [
      "FacadeDict({})\n"
     ]
    }
   ],
   "source": [
    "print(meta.tables)"
   ]
  },
  {
   "cell_type": "code",
   "execution_count": 11,
   "id": "512a0650",
   "metadata": {},
   "outputs": [
    {
     "name": "stdout",
     "output_type": "stream",
     "text": [
      "accounts\n",
      "FacadeDict({})\n"
     ]
    },
    {
     "ename": "KeyError",
     "evalue": "'accounts'",
     "output_type": "error",
     "traceback": [
      "\u001b[1;31m---------------------------------------------------------------------------\u001b[0m",
      "\u001b[1;31mKeyError\u001b[0m                                  Traceback (most recent call last)",
      "\u001b[1;32m<ipython-input-11-9ed7fe1841f6>\u001b[0m in \u001b[0;36m<module>\u001b[1;34m\u001b[0m\n\u001b[0;32m      4\u001b[0m     \u001b[0mprint\u001b[0m\u001b[1;33m(\u001b[0m\u001b[0mtableName\u001b[0m\u001b[1;33m)\u001b[0m\u001b[1;33m\u001b[0m\u001b[1;33m\u001b[0m\u001b[0m\n\u001b[0;32m      5\u001b[0m     \u001b[0mprint\u001b[0m\u001b[1;33m(\u001b[0m\u001b[0mmeta\u001b[0m\u001b[1;33m.\u001b[0m\u001b[0mtables\u001b[0m\u001b[1;33m)\u001b[0m\u001b[1;33m\u001b[0m\u001b[1;33m\u001b[0m\u001b[0m\n\u001b[1;32m----> 6\u001b[1;33m     \u001b[0mtable\u001b[0m \u001b[1;33m=\u001b[0m \u001b[0mmeta\u001b[0m\u001b[1;33m.\u001b[0m\u001b[0mtables\u001b[0m\u001b[1;33m[\u001b[0m\u001b[0mtableName\u001b[0m\u001b[1;33m]\u001b[0m\u001b[1;33m\u001b[0m\u001b[1;33m\u001b[0m\u001b[0m\n\u001b[0m\u001b[0;32m      7\u001b[0m     \u001b[0mquery\u001b[0m \u001b[1;33m=\u001b[0m \u001b[0mselect\u001b[0m\u001b[1;33m(\u001b[0m\u001b[1;33m[\u001b[0m\u001b[0mtable\u001b[0m\u001b[1;33m]\u001b[0m\u001b[1;33m)\u001b[0m\u001b[1;33m\u001b[0m\u001b[1;33m\u001b[0m\u001b[0m\n\u001b[0;32m      8\u001b[0m     \u001b[0mresults\u001b[0m \u001b[1;33m=\u001b[0m \u001b[0mconnection\u001b[0m\u001b[1;33m.\u001b[0m\u001b[0mexecute\u001b[0m\u001b[1;33m(\u001b[0m\u001b[0mquery\u001b[0m\u001b[1;33m)\u001b[0m\u001b[1;33m\u001b[0m\u001b[1;33m\u001b[0m\u001b[0m\n",
      "\u001b[1;31mKeyError\u001b[0m: 'accounts'"
     ]
    }
   ],
   "source": [
    "tablesList = []\n",
    "\n",
    "for tableName in table_names:\n",
    "    print(tableName)\n",
    "    table = meta.tables[tableName]\n",
    "    query = select([table])\n",
    "    results = connection.execute(query)\n",
    "    tablesList.append(results)"
   ]
  },
  {
   "cell_type": "code",
   "execution_count": 8,
   "id": "75794505",
   "metadata": {},
   "outputs": [
    {
     "data": {
      "text/html": [
       "<div>\n",
       "<style scoped>\n",
       "    .dataframe tbody tr th:only-of-type {\n",
       "        vertical-align: middle;\n",
       "    }\n",
       "\n",
       "    .dataframe tbody tr th {\n",
       "        vertical-align: top;\n",
       "    }\n",
       "\n",
       "    .dataframe thead th {\n",
       "        text-align: right;\n",
       "    }\n",
       "</style>\n",
       "<table border=\"1\" class=\"dataframe\">\n",
       "  <thead>\n",
       "    <tr style=\"text-align: right;\">\n",
       "      <th></th>\n",
       "      <th>0</th>\n",
       "      <th>1</th>\n",
       "      <th>2</th>\n",
       "      <th>3</th>\n",
       "      <th>4</th>\n",
       "    </tr>\n",
       "  </thead>\n",
       "  <tbody>\n",
       "    <tr>\n",
       "      <th>0</th>\n",
       "      <td>1</td>\n",
       "      <td>El show de como odiar HTML</td>\n",
       "      <td>2020-05-01 00:00:00.000000</td>\n",
       "      <td>404.0</td>\n",
       "      <td>100</td>\n",
       "    </tr>\n",
       "    <tr>\n",
       "      <th>1</th>\n",
       "      <td>2</td>\n",
       "      <td>No dormir y otros efectos de la uni</td>\n",
       "      <td>2020-06-04 00:00:00.000000</td>\n",
       "      <td>10.0</td>\n",
       "      <td>99</td>\n",
       "    </tr>\n",
       "    <tr>\n",
       "      <th>2</th>\n",
       "      <td>3</td>\n",
       "      <td>Astronaut in the ocean</td>\n",
       "      <td>2021-02-23 00:00:00.000000</td>\n",
       "      <td>20.0</td>\n",
       "      <td>45</td>\n",
       "    </tr>\n",
       "  </tbody>\n",
       "</table>\n",
       "</div>"
      ],
      "text/plain": [
       "   0                                    1                           2      3  \\\n",
       "0  1           El show de como odiar HTML  2020-05-01 00:00:00.000000  404.0   \n",
       "1  2  No dormir y otros efectos de la uni  2020-06-04 00:00:00.000000   10.0   \n",
       "2  3               Astronaut in the ocean  2021-02-23 00:00:00.000000   20.0   \n",
       "\n",
       "     4  \n",
       "0  100  \n",
       "1   99  \n",
       "2   45  "
      ]
     },
     "execution_count": 8,
     "metadata": {},
     "output_type": "execute_result"
    }
   ],
   "source": [
    "tablesList\n",
    "df = pd.DataFrame(results)\n",
    "df"
   ]
  },
  {
   "cell_type": "code",
   "execution_count": 9,
   "id": "918766e4",
   "metadata": {},
   "outputs": [],
   "source": [
    "for table in tablesList:\n",
    "    df = pd.DataFrame(table)\n",
    "    display(df)"
   ]
  },
  {
   "cell_type": "code",
   "execution_count": 10,
   "id": "b78be260",
   "metadata": {},
   "outputs": [
    {
     "name": "stdout",
     "output_type": "stream",
     "text": [
      "schema: main\n",
      "accounts\n",
      "Column: {'name': 'username', 'type': VARCHAR(length=30), 'nullable': False, 'default': None, 'autoincrement': 'auto', 'primary_key': 1}\n",
      "Column: {'name': 'password', 'type': VARCHAR(), 'nullable': False, 'default': None, 'autoincrement': 'auto', 'primary_key': 0}\n",
      "Column: {'name': 'is_admin', 'type': INTEGER(), 'nullable': False, 'default': None, 'autoincrement': 'auto', 'primary_key': 0}\n",
      "Column: {'name': 'available_money', 'type': INTEGER(), 'nullable': True, 'default': None, 'autoincrement': 'auto', 'primary_key': 0}\n",
      "alembic_version\n",
      "Column: {'name': 'version_num', 'type': VARCHAR(length=32), 'nullable': False, 'default': None, 'autoincrement': 'auto', 'primary_key': 1}\n",
      "artists\n",
      "Column: {'name': 'id', 'type': INTEGER(), 'nullable': False, 'default': None, 'autoincrement': 'auto', 'primary_key': 1}\n",
      "Column: {'name': 'name', 'type': VARCHAR(length=30), 'nullable': False, 'default': None, 'autoincrement': 'auto', 'primary_key': 0}\n",
      "Column: {'name': 'country', 'type': VARCHAR(length=30), 'nullable': False, 'default': None, 'autoincrement': 'auto', 'primary_key': 0}\n",
      "artists_in_shows\n",
      "Column: {'name': 'id', 'type': INTEGER(), 'nullable': False, 'default': None, 'autoincrement': 'auto', 'primary_key': 1}\n",
      "Column: {'name': 'artist_id', 'type': INTEGER(), 'nullable': True, 'default': None, 'autoincrement': 'auto', 'primary_key': 0}\n",
      "Column: {'name': 'show_id', 'type': INTEGER(), 'nullable': True, 'default': None, 'autoincrement': 'auto', 'primary_key': 0}\n",
      "disciplines\n",
      "Column: {'name': 'id', 'type': INTEGER(), 'nullable': False, 'default': None, 'autoincrement': 'auto', 'primary_key': 1}\n",
      "Column: {'name': 'discipline', 'type': VARCHAR(length=7), 'nullable': False, 'default': None, 'autoincrement': 'auto', 'primary_key': 0}\n",
      "Column: {'name': 'artist_id', 'type': INTEGER(), 'nullable': False, 'default': None, 'autoincrement': 'auto', 'primary_key': 0}\n",
      "orders\n",
      "Column: {'name': 'id', 'type': INTEGER(), 'nullable': False, 'default': None, 'autoincrement': 'auto', 'primary_key': 1}\n",
      "Column: {'name': 'username', 'type': VARCHAR(length=30), 'nullable': False, 'default': None, 'autoincrement': 'auto', 'primary_key': 0}\n",
      "Column: {'name': 'id_show', 'type': INTEGER(), 'nullable': False, 'default': None, 'autoincrement': 'auto', 'primary_key': 0}\n",
      "Column: {'name': 'tickets_bought', 'type': INTEGER(), 'nullable': False, 'default': None, 'autoincrement': 'auto', 'primary_key': 0}\n",
      "places\n",
      "Column: {'name': 'id', 'type': INTEGER(), 'nullable': False, 'default': None, 'autoincrement': 'auto', 'primary_key': 1}\n",
      "Column: {'name': 'name', 'type': VARCHAR(length=30), 'nullable': False, 'default': None, 'autoincrement': 'auto', 'primary_key': 0}\n",
      "Column: {'name': 'city', 'type': VARCHAR(length=30), 'nullable': False, 'default': None, 'autoincrement': 'auto', 'primary_key': 0}\n",
      "Column: {'name': 'country', 'type': VARCHAR(length=30), 'nullable': False, 'default': None, 'autoincrement': 'auto', 'primary_key': 0}\n",
      "Column: {'name': 'capacity', 'type': INTEGER(), 'nullable': False, 'default': None, 'autoincrement': 'auto', 'primary_key': 0}\n",
      "shows\n",
      "Column: {'name': 'id', 'type': INTEGER(), 'nullable': False, 'default': None, 'autoincrement': 'auto', 'primary_key': 1}\n",
      "Column: {'name': 'name', 'type': VARCHAR(length=30), 'nullable': False, 'default': None, 'autoincrement': 'auto', 'primary_key': 0}\n",
      "Column: {'name': 'date', 'type': DATETIME(), 'nullable': False, 'default': None, 'autoincrement': 'auto', 'primary_key': 0}\n",
      "Column: {'name': 'price', 'type': FLOAT(), 'nullable': False, 'default': None, 'autoincrement': 'auto', 'primary_key': 0}\n",
      "Column: {'name': 'total_available_tickets', 'type': INTEGER(), 'nullable': True, 'default': None, 'autoincrement': 'auto', 'primary_key': 0}\n"
     ]
    }
   ],
   "source": [
    "inspector = inspect(engine)\n",
    "schemas = inspector.get_schema_names()\n",
    "\n",
    "for schema in schemas:\n",
    "    print(\"schema: %s\" % schema)\n",
    "    for table_name in inspector.get_table_names(schema=schema):\n",
    "        print(table_name)\n",
    "        for column in inspector.get_columns(table_name, schema=schema):\n",
    "            print(\"Column: %s\" % column)"
   ]
  },
  {
   "cell_type": "code",
   "execution_count": null,
   "id": "8263fed7",
   "metadata": {},
   "outputs": [],
   "source": []
  }
 ],
 "metadata": {
  "kernelspec": {
   "display_name": "Python 3",
   "language": "python",
   "name": "python3"
  },
  "language_info": {
   "codemirror_mode": {
    "name": "ipython",
    "version": 3
   },
   "file_extension": ".py",
   "mimetype": "text/x-python",
   "name": "python",
   "nbconvert_exporter": "python",
   "pygments_lexer": "ipython3",
   "version": "3.8.8"
  }
 },
 "nbformat": 4,
 "nbformat_minor": 5
}
